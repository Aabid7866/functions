{
  "nbformat": 4,
  "nbformat_minor": 0,
  "metadata": {
    "colab": {
      "provenance": []
    },
    "kernelspec": {
      "name": "python3",
      "display_name": "Python 3"
    },
    "language_info": {
      "name": "python"
    }
  },
  "cells": [
    {
      "cell_type": "markdown",
      "source": [
        "##FUNCTIONS\n"
      ],
      "metadata": {
        "id": "lhuLxp9rQsNT"
      }
    },
    {
      "cell_type": "code",
      "execution_count": 2,
      "metadata": {
        "id": "DT36nlWvQB8j"
      },
      "outputs": [],
      "source": [
        "\"1.What is python,Why is it popular?\\n\",\n",
        "\"Ans:Python is interpreter based fast and light weight high level programming language.It is commonly used for AI-ML for simplified syntax.Python is popular for simplest syntax and lightweight , and it is also provided a vast number of library for data Science as well as Data analytics.\\n\",\n",
        "\"\\n\",\n",
        "\"2. What is an interpreter in Python?\\n\",\n",
        "\"Ans; Interpreter is a program that reads and executes Python code line by line.\\n\",\n",
        "\"\\n\",\n",
        "\"3. What are pre-defined words in Python?\\n\",\n",
        "\"Ans:  Keywords in Python are reserved words that have predefined meanings and cannot be used as identifiers like variable names, function names, or class. e.g, Keywords in Python include: False, True, None, and, as, assert, async, await, def, del, else, break, class, continue, except, finally, for, from.\\n\",\n",
        "\"\\n\",\n",
        "\"4. Can keywords be used as variable names?\\n\",\n",
        "\"Ans:  No, we can’t use Keywords as a variable name. They have specific meanings and are used by the language to structure code.\\n\",\n",
        "\"\\n\",\n",
        "\"5. What is mutability in Python?\\n\",\n",
        "\"\\n\",\n",
        "\"Ans:  In Python, an object is considered mutable if its value can be changed after it has been created. This means that any operation that modifies a mutable object will modify the original object itself.\\n\",\n",
        "\"\\n\",\n",
        "\"6. Why are lists mutable, but tuples are immutable?\\n\",\n",
        "\"Ans: Once we've declared the contents of a tuple, we can't modify the contents of that tuple. In other hand in list we can access and modify the list. So, in this reason lists are mutable and tuples are immutable.\\n\",\n",
        "\"\\n\",\n",
        "\"7. What is the difference between \"==\" and 'is'operatore in python?\\n\",\n",
        "\"Ans. In Python, == checks if two variables have the same values , while is checks if they refer to the same object in memory. For example, two different lists with the same contents will be equal (a == b), but not identical (a is b). This distinction is important especially when working with mutable objects like lists or dictionaries. Use == for comparing values and is for checking object identity.\\n\",\n",
        "\"\\n\",\n",
        "\"8.  What are logical operators in Python?\\n\",\n",
        "\"Ans: Logical operators in Python are used to combine multiple conditions. The and operator returns True only if both conditions are true, or returns True if at least one condition is true, and not reverses the Boolean value of a condition. They are commonly used in conditional statements to control the flow of a program.\\n\",\n",
        "\"\\n\",\n",
        "\"9.  What is type casting in Python?\\n\",\n",
        "\"Ans: Type casting in Python means changing one data type to another. For example, you can change a string \\\"3\\\" to an integer using int(\\\"3\\\"). It helps when you need to do things like math with numbers that are stored as strings. Common functions for type casting are int(), float(), and str().\\n\",\n",
        "\"\\n\",\n",
        "\"10. What is the difference between implicit and explicit type casting?\\n\",\n",
        "\"Ans:  Implicit type casting happens automatically when Python converts one type to another, like turning an int into a float during math. Explicit type casting is when you do it yourself using functions like int(), float(), or str(). In short, implicit is automatic, explicit is manual.\\n\",\n",
        "\"\\n\",\n",
        "\"11.  What is the purpose of conditional statements in Python?\\n\",\n",
        "\"Ans:  The purpose of conditional statements in Python is to make decisions in a program. They let the code run different actions based on whether a condition is true or false. Common statements like if and else help control the flow of the program by checking conditions and choosing what code to run.\\n\",\n",
        "\"\\n\",\n",
        "\"12.How does the elif statement work?\\n\",\n",
        "\"Ans: The elif statement lets you check multiple conditions after an if. If the if is false, Python tests the elif condition, and runs its code if true. It helps handle different cases without many separate if statements.\\n\",\n",
        "\"\\n\",\n",
        "\"13. What is the difference between for and while loopd?\\n\",\n",
        "\"Ans:  A for loop runs a set number of times, usually by iterating over a sequence like a list or range. A while loop keeps running as long as a condition is true and doesn’t need a set number of repetitions. Use for when you know how many times to loop, and while when you want to loop until a condition changes.\\n\",\n",
        "\"\\n\",\n",
        "\"14. Describe a scenario where a while loop is more suitable than a for loop?\\n\",\n",
        "\"Ans: Reading user input until they type \\\"exit\\\". Since you don’t know how many times the user will enter data, a while loop keeps asking until the condition is met.\\n\",\n",
        "\n",
        "\n",
        "\n"
      ]
    },
    {
      "cell_type": "code",
      "source": [
        "#1. Write a Python program to print \"Hello, World!\"\"\n",
        "print(\"Hello,World!\")\n"
      ],
      "metadata": {
        "colab": {
          "base_uri": "https://localhost:8080/"
        },
        "id": "zmZO2o1Gg7HK",
        "outputId": "54ec465f-322d-4856-d70c-ce6726e72b02"
      },
      "execution_count": 7,
      "outputs": [
        {
          "output_type": "stream",
          "name": "stdout",
          "text": [
            "Hello,World!\n"
          ]
        }
      ]
    },
    {
      "cell_type": "code",
      "source": [
        "#2.Write a Python program that displays your name and age\n",
        "Name=input(\"Enter Your Name:\")\n",
        "Age=input(\"Enter Your Age:\")\n",
        "print(\"Your Name is\",Name)\n",
        "print(\"Your Age is\",Age)"
      ],
      "metadata": {
        "colab": {
          "base_uri": "https://localhost:8080/"
        },
        "id": "r829brlAj8bN",
        "outputId": "344a56ce-4e6e-42d4-c140-361a9421c483"
      },
      "execution_count": 11,
      "outputs": [
        {
          "output_type": "stream",
          "name": "stdout",
          "text": [
            "Enter Your Name:Aabid Mushtaq Bhat\n",
            "Enter Your Age:23\n",
            "Your Name is Aabid Mushtaq Bhat\n",
            "Your Age is 23\n"
          ]
        }
      ]
    },
    {
      "cell_type": "code",
      "source": [
        "#3.Write code to print all the pre-defined keywords in Python using the keyword library\n",
        "import keyword\n",
        "print(keyword.kwlist)"
      ],
      "metadata": {
        "colab": {
          "base_uri": "https://localhost:8080/"
        },
        "id": "lETx8NtQlWW2",
        "outputId": "f4cfd39b-c948-4c03-b296-6090215df6a7"
      },
      "execution_count": 12,
      "outputs": [
        {
          "output_type": "stream",
          "name": "stdout",
          "text": [
            "['False', 'None', 'True', 'and', 'as', 'assert', 'async', 'await', 'break', 'class', 'continue', 'def', 'del', 'elif', 'else', 'except', 'finally', 'for', 'from', 'global', 'if', 'import', 'in', 'is', 'lambda', 'nonlocal', 'not', 'or', 'pass', 'raise', 'return', 'try', 'while', 'with', 'yield']\n"
          ]
        }
      ]
    },
    {
      "cell_type": "code",
      "source": [
        "#4. Write a program that checks if a given word is a Python keyword.\n",
        "import keyword\n",
        "\n",
        "word = input(\"Enter a word: \")\n",
        "\n",
        "if keyword.iskeyword(word):\n",
        "    print(f\"'{word}' is a Python keyword.\")\n",
        "else:\n",
        "    print(f\"'{word}' is not a Python keyword.\")"
      ],
      "metadata": {
        "colab": {
          "base_uri": "https://localhost:8080/"
        },
        "id": "g7WT24o-nmZi",
        "outputId": "bbd914ab-e4c6-4efe-e408-6a38e06ced3d"
      },
      "execution_count": 13,
      "outputs": [
        {
          "output_type": "stream",
          "name": "stdout",
          "text": [
            "Enter a word: for\n",
            "'for' is a Python keyword.\n"
          ]
        }
      ]
    },
    {
      "cell_type": "code",
      "source": [
        " #5.Create a list and tuple in Python, and demonstrate how attempting to change an element works differently for each.\n",
        " #For List\n",
        "list = [\"Aabid\", \"Aadil\", \"PW skills\"]\n",
        "list[2] = \"PW_SKILLS\"\n",
        "print(list)\n",
        "\n",
        "#For Tuple\n",
        "my_tuple = (1, [2, 3])\n",
        "my_tuple[1][0] = 4  # Modify the list within the tuple\n",
        "print(my_tuple) # Output: (1, [4, 3])\n"
      ],
      "metadata": {
        "colab": {
          "base_uri": "https://localhost:8080/"
        },
        "id": "cEYWIH9Jn4Mh",
        "outputId": "3979190f-05d0-4194-dce7-569d5630c00f"
      },
      "execution_count": 15,
      "outputs": [
        {
          "output_type": "stream",
          "name": "stdout",
          "text": [
            "['Aabid', 'Aadil', 'PW_SKILLS']\n",
            "(1, [4, 3])\n"
          ]
        }
      ]
    },
    {
      "cell_type": "code",
      "source": [
        "#6.Write a function to demonstrate the behavior of mutable and immutable arguments\n",
        "def change_values(num, lst):\n",
        "    num = num + 10\n",
        "    lst.append(10)\n",
        "    print(\"Inside function:\", num, lst)\n",
        "\n",
        "a = 5\n",
        "b = [1, 2, 3]\n",
        "\n",
        "change_values(a, b)\n",
        "print(\"Outside function:\", a, b)\n"
      ],
      "metadata": {
        "colab": {
          "base_uri": "https://localhost:8080/"
        },
        "id": "9tzT3NWZoTL1",
        "outputId": "973e1c81-a5c4-4073-a51d-886880337cd7"
      },
      "execution_count": 16,
      "outputs": [
        {
          "output_type": "stream",
          "name": "stdout",
          "text": [
            "Inside function: 15 [1, 2, 3, 10]\n",
            "Outside function: 5 [1, 2, 3, 10]\n"
          ]
        }
      ]
    },
    {
      "cell_type": "code",
      "source": [
        "#7. Write a program that performs basic arithmetic operations on two user-input numbers.\n",
        "num1 = float(input(\"Enter first number: \"))\n",
        "num2 = float(input(\"Enter second number: \"))\n",
        "\n",
        "print(\"Addition:\", num1 + num2)\n",
        "print(\"Subtraction:\", num1 - num2)\n",
        "print(\"Multiplication:\", num1 * num2)\n",
        "\n",
        "if num2 != 0:\n",
        "    print(\"Division:\", num1 / num2)\n",
        "else:\n",
        "    print(\"Cannot divide by zero!\")"
      ],
      "metadata": {
        "colab": {
          "base_uri": "https://localhost:8080/"
        },
        "id": "WLslXqgIoqG3",
        "outputId": "afbece99-4fc4-4702-f6e4-adc01f6477ad"
      },
      "execution_count": 18,
      "outputs": [
        {
          "output_type": "stream",
          "name": "stdout",
          "text": [
            "Enter first number: 50\n",
            "Enter second number: 40\n",
            "Addition: 90.0\n",
            "Subtraction: 10.0\n",
            "Multiplication: 2000.0\n",
            "Division: 1.25\n"
          ]
        }
      ]
    },
    {
      "cell_type": "code",
      "source": [
        "#8. Write a program to demonstrate the use of logical operators.\n",
        "x = 10\n",
        "y = 5\n",
        "\n",
        "print(\"x > 5 and y < 10:\", x > 5 and y < 10)\n",
        "\n",
        "print(\"x < 5 or y < 10:\", x < 5 or y < 10)\n",
        "\n",
        "print(\"not (x > y):\", not (x > y))"
      ],
      "metadata": {
        "colab": {
          "base_uri": "https://localhost:8080/"
        },
        "id": "F_LWTnZ5o1Nc",
        "outputId": "1d5c4a73-52ea-49d0-bdad-7f2cec6417d7"
      },
      "execution_count": 19,
      "outputs": [
        {
          "output_type": "stream",
          "name": "stdout",
          "text": [
            "x > 5 and y < 10: True\n",
            "x < 5 or y < 10: True\n",
            "not (x > y): False\n"
          ]
        }
      ]
    },
    {
      "cell_type": "code",
      "source": [
        "#9. Write a Python program to convert user input from string to integer, float, and boolean types.\n",
        "text = input(\"Enter something: \")\n",
        "\n",
        "print(\"Integer:\", int(text))\n",
        "print(\"Float:\", float(text))\n",
        "print(\"Boolean:\", bool(text))"
      ],
      "metadata": {
        "colab": {
          "base_uri": "https://localhost:8080/"
        },
        "id": "LKA8blaVpRiP",
        "outputId": "0d4f7f71-7976-4267-cc5e-64844712cba4"
      },
      "execution_count": 20,
      "outputs": [
        {
          "output_type": "stream",
          "name": "stdout",
          "text": [
            "Enter something: 9\n",
            "Integer: 9\n",
            "Float: 9.0\n",
            "Boolean: True\n"
          ]
        }
      ]
    },
    {
      "cell_type": "code",
      "source": [
        "#10.Write code to demonstrate type casting with list elements.\n",
        "str_list = [\"1\", \"2\", \"3\", \"4\"]\n",
        "int_list = [int(item) for item in str_list]\n",
        "print(\"Original list:\", str_list)\n",
        "print(\"After type casting to int:\", int_list)"
      ],
      "metadata": {
        "colab": {
          "base_uri": "https://localhost:8080/"
        },
        "id": "8Frkx3oqpcEd",
        "outputId": "828589e1-d668-4410-9ff3-10d26fa01da4"
      },
      "execution_count": 25,
      "outputs": [
        {
          "output_type": "stream",
          "name": "stdout",
          "text": [
            "Original list: ['1', '2', '3', '4']\n",
            "After type casting to int: [1, 2, 3, 4]\n"
          ]
        }
      ]
    },
    {
      "cell_type": "code",
      "source": [
        "#11.Write a program that checks if a number is positive, negative, or zero.\n",
        "num = float(input(\"Enter a number: \"))\n",
        "\n",
        "if num > 0:\n",
        "    print(\"The number is positive.\")\n",
        "elif num < 0:\n",
        "    print(\"The number is negative.\")\n",
        "else:\n",
        "    print(\"The number is zero.\")"
      ],
      "metadata": {
        "colab": {
          "base_uri": "https://localhost:8080/"
        },
        "id": "5rI93g1Ipw2p",
        "outputId": "c2a9b489-78fb-4e56-b8d2-0f4231b79820"
      },
      "execution_count": 22,
      "outputs": [
        {
          "output_type": "stream",
          "name": "stdout",
          "text": [
            "Enter a number: 6\n",
            "The number is positive.\n"
          ]
        }
      ]
    },
    {
      "cell_type": "code",
      "source": [
        "#12. Write a for loop to print numbers from 1 to 10.\n",
        "for i in range(1, 10):\n",
        "    print(i)"
      ],
      "metadata": {
        "colab": {
          "base_uri": "https://localhost:8080/"
        },
        "id": "308uylEWp-d_",
        "outputId": "4ceb4aad-3d46-4bde-b6d6-416a5a9999f7"
      },
      "execution_count": 24,
      "outputs": [
        {
          "output_type": "stream",
          "name": "stdout",
          "text": [
            "1\n",
            "2\n",
            "3\n",
            "4\n",
            "5\n",
            "6\n",
            "7\n",
            "8\n",
            "9\n"
          ]
        }
      ]
    },
    {
      "cell_type": "code",
      "source": [
        "#13.Write a Python program to find the sum of all even numbers between 1 and 50\n",
        "total = 0\n",
        "for num in range(1, 51):\n",
        "    if num % 2 == 0:\n",
        "        total += num\n",
        "\n",
        "print(\"Sum of even numbers:\", total)"
      ],
      "metadata": {
        "colab": {
          "base_uri": "https://localhost:8080/"
        },
        "id": "wzNdsPNLqK8e",
        "outputId": "310e98ad-c168-491a-a95e-931998905f37"
      },
      "execution_count": 26,
      "outputs": [
        {
          "output_type": "stream",
          "name": "stdout",
          "text": [
            "Sum of even numbers: 650\n"
          ]
        }
      ]
    },
    {
      "cell_type": "code",
      "source": [
        " #14.Write a program to reverse a string using a while loop\n",
        " text = input(\"Enter a string: \")\n",
        "reversed_text = \"\"\n",
        "i = len(text) - 1\n",
        "while i >= 0:\n",
        "    reversed_text = reversed_text + text[i]\n",
        "    i = i - 1\n",
        "print(\"Reversed string:\", reversed_text)"
      ],
      "metadata": {
        "colab": {
          "base_uri": "https://localhost:8080/"
        },
        "id": "BQ_4e9jjqwWX",
        "outputId": "3d0f6099-c292-4a23-ff83-a6526e95de67"
      },
      "execution_count": 29,
      "outputs": [
        {
          "output_type": "stream",
          "name": "stdout",
          "text": [
            "Enter a string: Aabid\n",
            "Reversed string: dibaA\n"
          ]
        }
      ]
    },
    {
      "cell_type": "code",
      "source": [
        "#15.Write a Python program to calculate the factorial of a number provided by the user using a while loop\n",
        "num = int(input(\"Enter a number: \"))\n",
        "factorial = 1\n",
        "i = 1\n",
        "\n",
        "while i <= num:\n",
        "    factorial *= i\n",
        "    i += 1\n",
        "\n",
        "print(f\"Factorial of {num} is {factorial}\")"
      ],
      "metadata": {
        "colab": {
          "base_uri": "https://localhost:8080/"
        },
        "id": "5g28wuMoq7k8",
        "outputId": "8082981d-bd67-41a8-ee65-e8afd78d8f37"
      },
      "execution_count": 30,
      "outputs": [
        {
          "output_type": "stream",
          "name": "stdout",
          "text": [
            "Enter a number: 6\n",
            "Factorial of 6 is 720\n"
          ]
        }
      ]
    },
    {
      "cell_type": "code",
      "source": [],
      "metadata": {
        "id": "seIXp8WCrSBz"
      },
      "execution_count": 30,
      "outputs": []
    }
  ]
}